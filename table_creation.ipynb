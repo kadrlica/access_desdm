{
 "cells": [
  {
   "cell_type": "markdown",
   "metadata": {},
   "source": [
    "# Creating DESDM DB tables\n",
    "\n",
    "----"
   ]
  },
  {
   "cell_type": "code",
   "execution_count": 1,
   "metadata": {
    "collapsed": true
   },
   "outputs": [],
   "source": [
    "%matplotlib inline"
   ]
  },
  {
   "cell_type": "code",
   "execution_count": 2,
   "metadata": {
    "collapsed": true
   },
   "outputs": [],
   "source": [
    "import subprocess\n",
    "import numpy as np\n",
    "import fitsio\n",
    "from matplotlib.mlab import rec2csv\n",
    "import easyaccess as ea"
   ]
  },
  {
   "cell_type": "markdown",
   "metadata": {},
   "source": [
    "## Create data for upload"
   ]
  },
  {
   "cell_type": "code",
   "execution_count": 3,
   "metadata": {
    "collapsed": false
   },
   "outputs": [],
   "source": [
    "size = (100)\n",
    "x = np.random.normal(size=size)\n",
    "y = np.random.randint(0,size,size)\n",
    "z = y.astype(str)\n",
    "data = np.rec.fromarrays([x,y,z],names=['xcol','ycol','zcol'])"
   ]
  },
  {
   "cell_type": "code",
   "execution_count": 4,
   "metadata": {
    "collapsed": false
   },
   "outputs": [],
   "source": [
    "fitstable = \"mytable_fits\" \n",
    "fitsfile = fitstable+'.fits' \n",
    "fitsio.write(fitsfile,data,clobber=True)\n",
    "\n",
    "csvtable = \"mytable_csv\" \n",
    "csvfile = csvtable+'.csv' \n",
    "rec2csv(data,csvfile)"
   ]
  },
  {
   "cell_type": "markdown",
   "metadata": {},
   "source": [
    "## Uploading with Default Typing"
   ]
  },
  {
   "cell_type": "markdown",
   "metadata": {},
   "source": [
    "Upload the tables from the command line using ```easyaccess```. The datatype conversion is done by the ```easyaccess``` default mapping."
   ]
  },
  {
   "cell_type": "markdown",
   "metadata": {},
   "source": [
    "### Command-line upload"
   ]
  },
  {
   "cell_type": "code",
   "execution_count": 5,
   "metadata": {
    "collapsed": false
   },
   "outputs": [
    {
     "name": "stdout",
     "output_type": "stream",
     "text": [
      "\n",
      " Table already exists. Table can be removed with:\n",
      "  DROP TABLE MYTABLE_FITS;\n",
      "\n",
      "\n"
     ]
    }
   ],
   "source": [
    "command = \"easyaccess -q -lt %s\"%fitsfile\n",
    "print subprocess.check_output(command,shell=True)"
   ]
  },
  {
   "cell_type": "code",
   "execution_count": 6,
   "metadata": {
    "collapsed": false
   },
   "outputs": [
    {
     "name": "stdout",
     "output_type": "stream",
     "text": [
      "\n",
      " Table already exists. Table can be removed with:\n",
      "  DROP TABLE MYTABLE_CSV;\n",
      "\n",
      "\n"
     ]
    }
   ],
   "source": [
    "command = \"easyaccess -q -lt %s\"%csvfile\n",
    "print subprocess.check_output(command,shell=True)"
   ]
  },
  {
   "cell_type": "markdown",
   "metadata": {},
   "source": [
    "Now check that the upload succeeded. Notice that the ```zcol``` in the CSV file has been uploaded as a ```NUMBER``` because the formatting was not preserved when writing to the CSV file. For the FITS file, the typing of this column was properly preserved as ```VARCHAR2```."
   ]
  },
  {
   "cell_type": "code",
   "execution_count": 7,
   "metadata": {
    "collapsed": false
   },
   "outputs": [
    {
     "name": "stdout",
     "output_type": "stream",
     "text": [
      "\n",
      "Description of MYTABLE_CSV commented as: 'None'\n",
      "\n",
      "  COLUMN_NAME      DATA_TYPE DATA_FORMAT COMMENTS\n",
      "1        XCOL  BINARY_DOUBLE         8,,     None\n",
      "2        YCOL         NUMBER       22,,0     None\n",
      "3        ZCOL         NUMBER       22,,0     None\n",
      "\n",
      "\n",
      "\n",
      "\n",
      "9 rows in 0.07 seconds\n",
      "\n",
      "       XCOL  YCOL  ZCOL\n",
      "1  1.700170    75    75\n",
      "2 -1.166305    67    67\n",
      "3  0.306881    12    12\n",
      "4  1.808419    96    96\n",
      "5 -0.564430    67    67\n",
      "6  0.380664    76    76\n",
      "7  0.401055     9     9\n",
      "8 -0.318400    34    34\n",
      "9 -0.755457    69    69\n",
      "\n",
      "\n"
     ]
    }
   ],
   "source": [
    "command = 'easyaccess -q -c \"describe_table %s;\"'%(csvtable)\n",
    "print subprocess.check_output(command,shell=True)\n",
    "\n",
    "command = 'easyaccess -q -c \"select * from %s where rownum < 10;\"'%(csvtable)\n",
    "print subprocess.check_output(command,shell=True)"
   ]
  },
  {
   "cell_type": "code",
   "execution_count": 8,
   "metadata": {
    "collapsed": false
   },
   "outputs": [
    {
     "name": "stdout",
     "output_type": "stream",
     "text": [
      "\n",
      "Description of MYTABLE_FITS commented as: 'None'\n",
      "\n",
      "  COLUMN_NAME      DATA_TYPE DATA_FORMAT COMMENTS\n",
      "1        XCOL  BINARY_DOUBLE         8,,     None\n",
      "2        YCOL         NUMBER        22,,     None\n",
      "3        ZCOL       VARCHAR2        21,,     None\n",
      "\n",
      "\n",
      "\n",
      "\n",
      "9 rows in 0.10 seconds\n",
      "\n",
      "       XCOL  YCOL                   ZCOL\n",
      "1  1.700170    75  75                   \n",
      "2 -1.166305    67  67                   \n",
      "3  0.306881    12  12                   \n",
      "4  1.808419    96  96                   \n",
      "5 -0.564430    67  67                   \n",
      "6  0.380664    76  76                   \n",
      "7  0.401055     9  9                    \n",
      "8 -0.318400    34  34                   \n",
      "9 -0.755457    69  69                   \n",
      "\n",
      "\n"
     ]
    }
   ],
   "source": [
    "command = 'easyaccess -q -c \"describe_table %s;\"'%(fitstable)\n",
    "print subprocess.check_output(command,shell=True)\n",
    "\n",
    "command = 'easyaccess -q -c \"select * from %s where rownum < 10;\"'%(fitstable)\n",
    "print subprocess.check_output(command,shell=True)"
   ]
  },
  {
   "cell_type": "markdown",
   "metadata": {},
   "source": [
    "### Python API upload"
   ]
  },
  {
   "cell_type": "markdown",
   "metadata": {},
   "source": [
    "For more details on the ```easyaccess``` python API, see the notebook [here](https://github.com/mgckind/access_desdm/blob/master/easyaccess_api.ipynb). Below are the basics..."
   ]
  },
  {
   "cell_type": "code",
   "execution_count": 9,
   "metadata": {
    "collapsed": false
   },
   "outputs": [],
   "source": [
    "conn=ea.connect(section='dessci',quiet=True)"
   ]
  },
  {
   "cell_type": "code",
   "execution_count": 10,
   "metadata": {
    "collapsed": false
   },
   "outputs": [
    {
     "name": "stdout",
     "output_type": "stream",
     "text": [
      "\n",
      " Table already exists. Table can be removed with:\n",
      "  DROP TABLE MYTABLE_API;\n",
      "\n"
     ]
    }
   ],
   "source": [
    "apitable = 'mytable_api'\n",
    "conn.load_table(fitsfile,name=apitable)"
   ]
  },
  {
   "cell_type": "code",
   "execution_count": 11,
   "metadata": {
    "collapsed": false
   },
   "outputs": [
    {
     "name": "stdout",
     "output_type": "stream",
     "text": [
      "\n",
      "\u001b[36mList of my tables\n",
      "\u001b[0m\n",
      "        TABLE_NAME  SIZE_GBYTES\n",
      "1     MYTABLE_FITS     0.000061\n",
      "2  FGOTTENMETADATA     0.002930\n",
      "3      MYTABLE_API     0.000061\n",
      "4      MYTABLE_CSV     0.000061\n",
      "\n"
     ]
    }
   ],
   "source": [
    "conn.mytables()"
   ]
  },
  {
   "cell_type": "markdown",
   "metadata": {},
   "source": [
    "Clean up a bit (the ```PURGE``` command is necessary to empty the \"recycling bin\")."
   ]
  },
  {
   "cell_type": "code",
   "execution_count": 17,
   "metadata": {
    "collapsed": false
   },
   "outputs": [
    {
     "name": "stdout",
     "output_type": "stream",
     "text": [
      "DROP TABLE mytable_csv PURGE\n",
      "DROP TABLE mytable_fits PURGE\n",
      "DROP TABLE mytable_api PURGE\n"
     ]
    },
    {
     "ename": "DatabaseError",
     "evalue": "ORA-00942: table or view does not exist\n",
     "output_type": "error",
     "traceback": [
      "\u001b[0;31m---------------------------------------------------------------------------\u001b[0m",
      "\u001b[0;31mDatabaseError\u001b[0m                             Traceback (most recent call last)",
      "\u001b[0;32m<ipython-input-17-a7ded14a1e95>\u001b[0m in \u001b[0;36m<module>\u001b[0;34m()\u001b[0m\n\u001b[1;32m      2\u001b[0m     \u001b[0mquery\u001b[0m \u001b[0;34m=\u001b[0m \u001b[0;34m\"DROP TABLE %s PURGE\"\u001b[0m\u001b[0;34m%\u001b[0m\u001b[0;34m(\u001b[0m\u001b[0mtable\u001b[0m\u001b[0;34m)\u001b[0m\u001b[0;34m\u001b[0m\u001b[0m\n\u001b[1;32m      3\u001b[0m     \u001b[0;32mprint\u001b[0m \u001b[0mquery\u001b[0m\u001b[0;34m\u001b[0m\u001b[0m\n\u001b[0;32m----> 4\u001b[0;31m     \u001b[0mconn\u001b[0m\u001b[0;34m.\u001b[0m\u001b[0mcursor\u001b[0m\u001b[0;34m(\u001b[0m\u001b[0;34m)\u001b[0m\u001b[0;34m.\u001b[0m\u001b[0mexecute\u001b[0m\u001b[0;34m(\u001b[0m\u001b[0mquery\u001b[0m\u001b[0;34m)\u001b[0m\u001b[0;34m\u001b[0m\u001b[0m\n\u001b[0m",
      "\u001b[0;31mDatabaseError\u001b[0m: ORA-00942: table or view does not exist\n"
     ]
    }
   ],
   "source": [
    "for table in [csvtable,fitstable,apitable]:\n",
    "    query = \"DROP TABLE %s PURGE\"%(table)\n",
    "    print query\n",
    "    conn.cursor().execute(query)"
   ]
  },
  {
   "cell_type": "markdown",
   "metadata": {},
   "source": [
    "## Upload with Custom Typing"
   ]
  },
  {
   "cell_type": "markdown",
   "metadata": {},
   "source": [
    "The idea here is that we first create the table with a custom SQL command and then we upload the data to it."
   ]
  },
  {
   "cell_type": "code",
   "execution_count": 13,
   "metadata": {
    "collapsed": false
   },
   "outputs": [],
   "source": [
    "sqltable = \"mytable_sql\"\n",
    "sql = \"\"\"\n",
    "--- Custom Table Creation\n",
    "CREATE TABLE %s (\n",
    "xcol NUMBER(6,4) NOT NULL,\n",
    "ycol BINARY_DOUBLE,\n",
    "zcol VARCHAR2(5)\n",
    ");\n",
    "\"\"\"%sqltable\n",
    "\n",
    "sqlfile = sqltable+\".sql\"\n",
    "out = open(sqlfile,'w')\n",
    "out.write(sql)\n",
    "out.close()"
   ]
  },
  {
   "cell_type": "code",
   "execution_count": 18,
   "metadata": {
    "collapsed": false
   },
   "outputs": [],
   "source": [
    "# Create the table from the python API\n",
    "query = conn.loadsql(sqlfile)\n",
    "\n",
    "# This can also be done from the command line with:\n",
    "# \"easyaccess -q -loadsql %s\"%sqlfile"
   ]
  },
  {
   "cell_type": "code",
   "execution_count": 19,
   "metadata": {
    "collapsed": false
   },
   "outputs": [
    {
     "name": "stdout",
     "output_type": "stream",
     "text": [
      "\n",
      "\u001b[36mDescription of MYTABLE_SQL commented as: 'None'\n",
      "\u001b[0m\n",
      "  COLUMN_NAME      DATA_TYPE DATA_FORMAT COMMENTS\n",
      "1        XCOL         NUMBER      22,6,4     None\n",
      "2        YCOL  BINARY_DOUBLE         8,,     None\n",
      "3        ZCOL       VARCHAR2         5,,     None\n",
      "\n"
     ]
    }
   ],
   "source": [
    "conn.describe_table(sqltable)"
   ]
  },
  {
   "cell_type": "markdown",
   "metadata": {},
   "source": [
    "Now we append the data file to the table that we just created."
   ]
  },
  {
   "cell_type": "code",
   "execution_count": 20,
   "metadata": {
    "collapsed": false
   },
   "outputs": [
    {
     "name": "stdout",
     "output_type": "stream",
     "text": [
      "\u001b[32m\n",
      " Inserted 100 rows and 3 columns into table MYTABLE_SQL in 0.73 seconds\u001b[0m\n",
      "\u001b[32m\n",
      " Table MYTABLE_SQL appended successfully.\u001b[0m\n"
     ]
    }
   ],
   "source": [
    "conn.append_table(csvfile,sqltable)"
   ]
  },
  {
   "cell_type": "code",
   "execution_count": 22,
   "metadata": {
    "collapsed": false
   },
   "outputs": [
    {
     "name": "stdout",
     "output_type": "stream",
     "text": [
      "\n",
      "\u001b[36mDescription of MYTABLE_SQL commented as: 'None'\n",
      "\u001b[0m\n",
      "  COLUMN_NAME      DATA_TYPE DATA_FORMAT COMMENTS\n",
      "1        XCOL         NUMBER      22,6,4     None\n",
      "2        YCOL  BINARY_DOUBLE         8,,     None\n",
      "3        ZCOL       VARCHAR2         5,,     None\n",
      "\n"
     ]
    },
    {
     "data": {
      "text/html": [
       "<div>\n",
       "<table border=\"1\" class=\"dataframe\">\n",
       "  <thead>\n",
       "    <tr style=\"text-align: right;\">\n",
       "      <th></th>\n",
       "      <th>XCOL</th>\n",
       "      <th>YCOL</th>\n",
       "      <th>ZCOL</th>\n",
       "    </tr>\n",
       "  </thead>\n",
       "  <tbody>\n",
       "    <tr>\n",
       "      <th>0</th>\n",
       "      <td>-1.4702</td>\n",
       "      <td>65</td>\n",
       "      <td>65</td>\n",
       "    </tr>\n",
       "    <tr>\n",
       "      <th>1</th>\n",
       "      <td>-0.4718</td>\n",
       "      <td>98</td>\n",
       "      <td>98</td>\n",
       "    </tr>\n",
       "    <tr>\n",
       "      <th>2</th>\n",
       "      <td>-0.4847</td>\n",
       "      <td>16</td>\n",
       "      <td>16</td>\n",
       "    </tr>\n",
       "    <tr>\n",
       "      <th>3</th>\n",
       "      <td>-2.4167</td>\n",
       "      <td>24</td>\n",
       "      <td>24</td>\n",
       "    </tr>\n",
       "    <tr>\n",
       "      <th>4</th>\n",
       "      <td>-0.0351</td>\n",
       "      <td>70</td>\n",
       "      <td>70</td>\n",
       "    </tr>\n",
       "    <tr>\n",
       "      <th>5</th>\n",
       "      <td>0.6683</td>\n",
       "      <td>10</td>\n",
       "      <td>10</td>\n",
       "    </tr>\n",
       "    <tr>\n",
       "      <th>6</th>\n",
       "      <td>-1.4398</td>\n",
       "      <td>45</td>\n",
       "      <td>45</td>\n",
       "    </tr>\n",
       "    <tr>\n",
       "      <th>7</th>\n",
       "      <td>-0.4629</td>\n",
       "      <td>56</td>\n",
       "      <td>56</td>\n",
       "    </tr>\n",
       "    <tr>\n",
       "      <th>8</th>\n",
       "      <td>-1.9481</td>\n",
       "      <td>55</td>\n",
       "      <td>55</td>\n",
       "    </tr>\n",
       "  </tbody>\n",
       "</table>\n",
       "</div>"
      ],
      "text/plain": [
       "     XCOL  YCOL ZCOL\n",
       "0 -1.4702    65   65\n",
       "1 -0.4718    98   98\n",
       "2 -0.4847    16   16\n",
       "3 -2.4167    24   24\n",
       "4 -0.0351    70   70\n",
       "5  0.6683    10   10\n",
       "6 -1.4398    45   45\n",
       "7 -0.4629    56   56\n",
       "8 -1.9481    55   55"
      ]
     },
     "execution_count": 22,
     "metadata": {},
     "output_type": "execute_result"
    }
   ],
   "source": [
    "conn.describe_table(sqltable)\n",
    "conn.query_to_pandas(\"select * from %s where rownum < 10\"%sqltable)"
   ]
  },
  {
   "cell_type": "code",
   "execution_count": null,
   "metadata": {
    "collapsed": true
   },
   "outputs": [],
   "source": []
  }
 ],
 "metadata": {
  "kernelspec": {
   "display_name": "Python 2",
   "language": "python",
   "name": "python2"
  },
  "language_info": {
   "codemirror_mode": {
    "name": "ipython",
    "version": 2
   },
   "file_extension": ".py",
   "mimetype": "text/x-python",
   "name": "python",
   "nbconvert_exporter": "python",
   "pygments_lexer": "ipython2",
   "version": "2.7.8"
  }
 },
 "nbformat": 4,
 "nbformat_minor": 0
}
