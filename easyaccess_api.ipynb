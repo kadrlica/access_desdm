{
 "metadata": {
  "name": "",
  "signature": "sha256:3c920eedd5822e82bf0ff533d28fe931e8a684827e7c3743a9add71aabcd0db2"
 },
 "nbformat": 3,
 "nbformat_minor": 0,
 "worksheets": [
  {
   "cells": [
    {
     "cell_type": "markdown",
     "metadata": {},
     "source": [
      "# easyaccess python API"
     ]
    },
    {
     "cell_type": "code",
     "collapsed": false,
     "input": [
      "%matplotlib inline"
     ],
     "language": "python",
     "metadata": {},
     "outputs": [],
     "prompt_number": 1
    },
    {
     "cell_type": "code",
     "collapsed": false,
     "input": [
      "import easyaccess as ea\n",
      "import numpy as np\n",
      "import pandas as pd\n",
      "import matplotlib.pyplot as plt\n",
      "import seaborn as sns"
     ],
     "language": "python",
     "metadata": {},
     "outputs": [],
     "prompt_number": 2
    },
    {
     "cell_type": "code",
     "collapsed": false,
     "input": [
      "connection=ea.connect()"
     ],
     "language": "python",
     "metadata": {},
     "outputs": [
      {
       "output_type": "stream",
       "stream": "stdout",
       "text": [
        "Connecting to DB ** dessci ** ...\n"
       ]
      }
     ],
     "prompt_number": 3
    },
    {
     "cell_type": "markdown",
     "metadata": {},
     "source": [
      "###Using cursor "
     ]
    },
    {
     "cell_type": "code",
     "collapsed": false,
     "input": [
      "cursor=connection.cursor() ##create a cursor object to handle the DB"
     ],
     "language": "python",
     "metadata": {},
     "outputs": [],
     "prompt_number": 4
    },
    {
     "cell_type": "code",
     "collapsed": false,
     "input": [
      "query='select * from mini_y1a1' ##query"
     ],
     "language": "python",
     "metadata": {},
     "outputs": [],
     "prompt_number": 5
    },
    {
     "cell_type": "code",
     "collapsed": false,
     "input": [
      "QQ=cursor.execute(query) #execute query"
     ],
     "language": "python",
     "metadata": {},
     "outputs": [],
     "prompt_number": 6
    },
    {
     "cell_type": "code",
     "collapsed": false,
     "input": [
      "QQ.description"
     ],
     "language": "python",
     "metadata": {},
     "outputs": [
      {
       "metadata": {},
       "output_type": "pyout",
       "prompt_number": 7,
       "text": [
        "[('COADD_OBJECTS_ID', cx_Oracle.NUMBER, 12, 22, 11, 0, 0),\n",
        " ('RA', cx_Oracle.NUMBER, 17, 22, 9, 6, 0),\n",
        " ('DEC', cx_Oracle.NUMBER, 17, 22, 9, 6, 0),\n",
        " ('MAG_AUTO_G', cx_Oracle.NUMBER, 12, 22, 6, 4, 0),\n",
        " ('MAG_AUTO_R', cx_Oracle.NUMBER, 12, 22, 6, 4, 0),\n",
        " ('MAG_AUTO_I', cx_Oracle.NUMBER, 12, 22, 6, 4, 0),\n",
        " ('TILENAME', cx_Oracle.STRING, 12, 12, 0, 0, 0),\n",
        " ('MAGERR_DETMODEL_I', cx_Oracle.STRING, 30, 30, 0, 0, 0),\n",
        " ('FLAGS_I', cx_Oracle.NUMBER, 4, 22, 3, 0, 0),\n",
        " ('XCORR_SFD98_G', cx_Oracle.NUMBER, 18, 22, 10, 6, 0)]"
       ]
      }
     ],
     "prompt_number": 7
    },
    {
     "cell_type": "code",
     "collapsed": false,
     "input": [
      "header = [item[0] for item in cursor.description]\n",
      "rows = cursor.fetchall()  ## Bring the data\n",
      "cols = np.array(zip(*rows))"
     ],
     "language": "python",
     "metadata": {},
     "outputs": [],
     "prompt_number": 8
    },
    {
     "cell_type": "code",
     "collapsed": false,
     "input": [
      "cols"
     ],
     "language": "python",
     "metadata": {},
     "outputs": [
      {
       "metadata": {},
       "output_type": "pyout",
       "prompt_number": 9,
       "text": [
        "array([['3120938977', '3120944503', '3120954907', ..., '3129748112',\n",
        "        '3129768211', '3129775564'],\n",
        "       ['9.55367', '9.999752', '9.114992', ..., '354.115727', '353.944852',\n",
        "        '353.928609'],\n",
        "       ['-52.858189', '-52.754332', '-52.555158', ..., '-42.88724',\n",
        "        '-42.769342', '-42.712737'],\n",
        "       ..., \n",
        "       ['20141118000041_DES0037-5248', '20141118000041_DES0037-5248',\n",
        "        '20141118000041_DES0037-5248', ..., '20141202000011_DES2335-4249',\n",
        "        '20141202000011_DES2335-4249', '20141202000011_DES2335-4249'],\n",
        "       ['0', '0', '0', ..., '0', '0', '0'],\n",
        "       ['0.063832', '0.056015', '0.061165', ..., '0.048606', '0.054682',\n",
        "        '0.057757']], \n",
        "      dtype='|S32')"
       ]
      }
     ],
     "prompt_number": 9
    },
    {
     "cell_type": "markdown",
     "metadata": {},
     "source": [
      "### Using easyaccess pre-defined"
     ]
    },
    {
     "cell_type": "code",
     "collapsed": false,
     "input": [
      "DF=connection.query_to_pandas(query) #one line!"
     ],
     "language": "python",
     "metadata": {},
     "outputs": [],
     "prompt_number": 10
    },
    {
     "cell_type": "code",
     "collapsed": false,
     "input": [
      "pd.set_option('display.max_rows',12) #Display only"
     ],
     "language": "python",
     "metadata": {},
     "outputs": [],
     "prompt_number": 11
    },
    {
     "cell_type": "code",
     "collapsed": false,
     "input": [
      "DF"
     ],
     "language": "python",
     "metadata": {},
     "outputs": [
      {
       "html": [
        "<div style=\"max-height:1000px;max-width:1500px;overflow:auto;\">\n",
        "<table border=\"1\" class=\"dataframe\">\n",
        "  <thead>\n",
        "    <tr style=\"text-align: right;\">\n",
        "      <th></th>\n",
        "      <th>COADD_OBJECTS_ID</th>\n",
        "      <th>RA</th>\n",
        "      <th>DEC</th>\n",
        "      <th>MAG_AUTO_G</th>\n",
        "      <th>MAG_AUTO_R</th>\n",
        "      <th>MAG_AUTO_I</th>\n",
        "      <th>TILENAME</th>\n",
        "      <th>MAGERR_DETMODEL_I</th>\n",
        "      <th>FLAGS_I</th>\n",
        "      <th>XCORR_SFD98_G</th>\n",
        "    </tr>\n",
        "  </thead>\n",
        "  <tbody>\n",
        "    <tr>\n",
        "      <th>0</th>\n",
        "      <td>3120938977</td>\n",
        "      <td>9.553670</td>\n",
        "      <td>-52.858189</td>\n",
        "      <td>99.0000</td>\n",
        "      <td>23.3937</td>\n",
        "      <td>23.5964</td>\n",
        "      <td>DES0037-5248</td>\n",
        "      <td>20141118000041_DES0037-5248</td>\n",
        "      <td>0</td>\n",
        "      <td>0.063832</td>\n",
        "    </tr>\n",
        "    <tr>\n",
        "      <th>1</th>\n",
        "      <td>3120944503</td>\n",
        "      <td>9.999752</td>\n",
        "      <td>-52.754332</td>\n",
        "      <td>22.4878</td>\n",
        "      <td>21.9532</td>\n",
        "      <td>21.7433</td>\n",
        "      <td>DES0037-5248</td>\n",
        "      <td>20141118000041_DES0037-5248</td>\n",
        "      <td>0</td>\n",
        "      <td>0.056015</td>\n",
        "    </tr>\n",
        "    <tr>\n",
        "      <th>2</th>\n",
        "      <td>3120954907</td>\n",
        "      <td>9.114992</td>\n",
        "      <td>-52.555158</td>\n",
        "      <td>25.3244</td>\n",
        "      <td>23.3327</td>\n",
        "      <td>22.3868</td>\n",
        "      <td>DES0037-5248</td>\n",
        "      <td>20141118000041_DES0037-5248</td>\n",
        "      <td>0</td>\n",
        "      <td>0.061165</td>\n",
        "    </tr>\n",
        "    <tr>\n",
        "      <th>3</th>\n",
        "      <td>3120936831</td>\n",
        "      <td>8.994403</td>\n",
        "      <td>-52.899365</td>\n",
        "      <td>24.9927</td>\n",
        "      <td>24.5518</td>\n",
        "      <td>23.8233</td>\n",
        "      <td>DES0037-5248</td>\n",
        "      <td>20141118000041_DES0037-5248</td>\n",
        "      <td>0</td>\n",
        "      <td>0.059757</td>\n",
        "    </tr>\n",
        "    <tr>\n",
        "      <th>4</th>\n",
        "      <td>3120952757</td>\n",
        "      <td>9.427335</td>\n",
        "      <td>-52.595066</td>\n",
        "      <td>23.6036</td>\n",
        "      <td>23.5077</td>\n",
        "      <td>22.6008</td>\n",
        "      <td>DES0037-5248</td>\n",
        "      <td>20141118000041_DES0037-5248</td>\n",
        "      <td>0</td>\n",
        "      <td>0.055830</td>\n",
        "    </tr>\n",
        "    <tr>\n",
        "      <th>5</th>\n",
        "      <td>3120045269</td>\n",
        "      <td>10.008397</td>\n",
        "      <td>-42.256504</td>\n",
        "      <td>24.9008</td>\n",
        "      <td>24.5805</td>\n",
        "      <td>23.9592</td>\n",
        "      <td>DES0041-4206</td>\n",
        "      <td>20141118000041_DES0041-4206</td>\n",
        "      <td>0</td>\n",
        "      <td>0.041641</td>\n",
        "    </tr>\n",
        "    <tr>\n",
        "      <th>...</th>\n",
        "      <td>...</td>\n",
        "      <td>...</td>\n",
        "      <td>...</td>\n",
        "      <td>...</td>\n",
        "      <td>...</td>\n",
        "      <td>...</td>\n",
        "      <td>...</td>\n",
        "      <td>...</td>\n",
        "      <td>...</td>\n",
        "      <td>...</td>\n",
        "    </tr>\n",
        "    <tr>\n",
        "      <th>13622</th>\n",
        "      <td>3130452163</td>\n",
        "      <td>351.805436</td>\n",
        "      <td>-55.213665</td>\n",
        "      <td>23.2921</td>\n",
        "      <td>22.7168</td>\n",
        "      <td>22.5535</td>\n",
        "      <td>DES2328-5457</td>\n",
        "      <td>20141202000011_DES2328-5457</td>\n",
        "      <td>0</td>\n",
        "      <td>0.036640</td>\n",
        "    </tr>\n",
        "    <tr>\n",
        "      <th>13623</th>\n",
        "      <td>3130463106</td>\n",
        "      <td>351.773849</td>\n",
        "      <td>-54.937334</td>\n",
        "      <td>23.9523</td>\n",
        "      <td>22.5014</td>\n",
        "      <td>21.7478</td>\n",
        "      <td>DES2328-5457</td>\n",
        "      <td>20141202000011_DES2328-5457</td>\n",
        "      <td>0</td>\n",
        "      <td>0.034565</td>\n",
        "    </tr>\n",
        "    <tr>\n",
        "      <th>13624</th>\n",
        "      <td>3130458607</td>\n",
        "      <td>352.285689</td>\n",
        "      <td>-55.050823</td>\n",
        "      <td>21.1033</td>\n",
        "      <td>20.5093</td>\n",
        "      <td>20.1339</td>\n",
        "      <td>DES2328-5457</td>\n",
        "      <td>20141202000011_DES2328-5457</td>\n",
        "      <td>0</td>\n",
        "      <td>0.043197</td>\n",
        "    </tr>\n",
        "    <tr>\n",
        "      <th>13625</th>\n",
        "      <td>3129748112</td>\n",
        "      <td>354.115727</td>\n",
        "      <td>-42.887240</td>\n",
        "      <td>23.6844</td>\n",
        "      <td>22.7677</td>\n",
        "      <td>22.6865</td>\n",
        "      <td>DES2335-4249</td>\n",
        "      <td>20141202000011_DES2335-4249</td>\n",
        "      <td>0</td>\n",
        "      <td>0.048606</td>\n",
        "    </tr>\n",
        "    <tr>\n",
        "      <th>13626</th>\n",
        "      <td>3129768211</td>\n",
        "      <td>353.944852</td>\n",
        "      <td>-42.769342</td>\n",
        "      <td>24.6917</td>\n",
        "      <td>24.0493</td>\n",
        "      <td>23.6182</td>\n",
        "      <td>DES2335-4249</td>\n",
        "      <td>20141202000011_DES2335-4249</td>\n",
        "      <td>0</td>\n",
        "      <td>0.054682</td>\n",
        "    </tr>\n",
        "    <tr>\n",
        "      <th>13627</th>\n",
        "      <td>3129775564</td>\n",
        "      <td>353.928609</td>\n",
        "      <td>-42.712737</td>\n",
        "      <td>24.8205</td>\n",
        "      <td>22.9208</td>\n",
        "      <td>21.8094</td>\n",
        "      <td>DES2335-4249</td>\n",
        "      <td>20141202000011_DES2335-4249</td>\n",
        "      <td>0</td>\n",
        "      <td>0.057757</td>\n",
        "    </tr>\n",
        "  </tbody>\n",
        "</table>\n",
        "<p>13628 rows \u00d7 10 columns</p>\n",
        "</div>"
       ],
       "metadata": {},
       "output_type": "pyout",
       "prompt_number": 12,
       "text": [
        "       COADD_OBJECTS_ID          RA        DEC  MAG_AUTO_G  MAG_AUTO_R  MAG_AUTO_I      TILENAME            MAGERR_DETMODEL_I  FLAGS_I  XCORR_SFD98_G\n",
        "0            3120938977    9.553670 -52.858189     99.0000     23.3937     23.5964  DES0037-5248  20141118000041_DES0037-5248        0       0.063832\n",
        "1            3120944503    9.999752 -52.754332     22.4878     21.9532     21.7433  DES0037-5248  20141118000041_DES0037-5248        0       0.056015\n",
        "2            3120954907    9.114992 -52.555158     25.3244     23.3327     22.3868  DES0037-5248  20141118000041_DES0037-5248        0       0.061165\n",
        "3            3120936831    8.994403 -52.899365     24.9927     24.5518     23.8233  DES0037-5248  20141118000041_DES0037-5248        0       0.059757\n",
        "4            3120952757    9.427335 -52.595066     23.6036     23.5077     22.6008  DES0037-5248  20141118000041_DES0037-5248        0       0.055830\n",
        "5            3120045269   10.008397 -42.256504     24.9008     24.5805     23.9592  DES0041-4206  20141118000041_DES0041-4206        0       0.041641\n",
        "...                 ...         ...        ...         ...         ...         ...           ...                          ...      ...            ...\n",
        "13622        3130452163  351.805436 -55.213665     23.2921     22.7168     22.5535  DES2328-5457  20141202000011_DES2328-5457        0       0.036640\n",
        "13623        3130463106  351.773849 -54.937334     23.9523     22.5014     21.7478  DES2328-5457  20141202000011_DES2328-5457        0       0.034565\n",
        "13624        3130458607  352.285689 -55.050823     21.1033     20.5093     20.1339  DES2328-5457  20141202000011_DES2328-5457        0       0.043197\n",
        "13625        3129748112  354.115727 -42.887240     23.6844     22.7677     22.6865  DES2335-4249  20141202000011_DES2335-4249        0       0.048606\n",
        "13626        3129768211  353.944852 -42.769342     24.6917     24.0493     23.6182  DES2335-4249  20141202000011_DES2335-4249        0       0.054682\n",
        "13627        3129775564  353.928609 -42.712737     24.8205     22.9208     21.8094  DES2335-4249  20141202000011_DES2335-4249        0       0.057757\n",
        "\n",
        "[13628 rows x 10 columns]"
       ]
      }
     ],
     "prompt_number": 12
    },
    {
     "cell_type": "code",
     "collapsed": false,
     "input": [
      "sns.set_style(\"whitegrid\")\n",
      "temp=sns.JointGrid(\"MAG_AUTO_G\", \"MAG_AUTO_R\",DF,xlim=[20,27],ylim=[20,27])\n",
      "temp.plot_joint(sns.kdeplot,cmap='jet',clip=[(20,27),(20,27)])\n",
      "temp.plot_joint(plt.scatter, s= .3,color='black')\n",
      "temp.plot_marginals(sns.distplot, color='green',kde=False)"
     ],
     "language": "python",
     "metadata": {},
     "outputs": [
      {
       "metadata": {},
       "output_type": "pyout",
       "prompt_number": 13,
       "text": [
        "<seaborn.axisgrid.JointGrid at 0x11d4d2a10>"
       ]
      },
      {
       "metadata": {},
       "output_type": "display_data",
       "png": "[encoded data removed]",
       "text": [
        "<matplotlib.figure.Figure at 0x11d4d2a90>"
       ]
      }
     ],
     "prompt_number": 13
    },
    {
     "cell_type": "code",
     "collapsed": false,
     "input": [
      "sns.distplot(DF.MAG_AUTO_I[(DF.MAG_AUTO_I>15) & (DF.MAG_AUTO_I<28)],color='red')"
     ],
     "language": "python",
     "metadata": {},
     "outputs": [
      {
       "metadata": {},
       "output_type": "pyout",
       "prompt_number": 14,
       "text": [
        "<matplotlib.axes.AxesSubplot at 0x11d4d25d0>"
       ]
      },
      {
       "metadata": {},
       "output_type": "display_data",
       "png": "[encoded data removed]",
       "text": [
        "<matplotlib.figure.Figure at 0x11d14a590>"
       ]
      }
     ],
     "prompt_number": 14
    },
    {
     "cell_type": "markdown",
     "metadata": {},
     "source": [
      "## Save to a file"
     ]
    },
    {
     "cell_type": "code",
     "collapsed": false,
     "input": [
      "connection.query_and_save(query,'mytable.csv') #same formatting"
     ],
     "language": "python",
     "metadata": {},
     "outputs": [
      {
       "output_type": "stream",
       "stream": "stdout",
       "text": [
        "\n",
        "\u001b[32m\n",
        " Written 13628 rows to mytable.csv in 6.97 seconds and 2 trips\u001b[0m\n",
        "\n",
        "\n"
       ]
      }
     ],
     "prompt_number": 15
    },
    {
     "cell_type": "markdown",
     "metadata": {},
     "source": [
      "## Upload table"
     ]
    },
    {
     "cell_type": "code",
     "collapsed": false,
     "input": [
      "connection.load_table('mytable.csv',name='test_api')"
     ],
     "language": "python",
     "metadata": {},
     "outputs": [
      {
       "output_type": "stream",
       "stream": "stdout",
       "text": [
        "\u001b[32m\n",
        "  Table TEST_API created successfully with 13628 rows and 10 columns in 15.64 seconds\u001b[0m\n",
        "\u001b[36m\n",
        " You might want to refresh the metadata (refresh_metadata_cache)\n",
        " so your new table appears during autocompletion\u001b[0m\n",
        "\n",
        "\u001b[47m\u001b[34mTo make this table public run:\u001b[0m \n",
        "\n",
        "\u001b[47m\u001b[34m   grant select on TEST_API to DES_READER; \u001b[0m \n",
        "\n"
       ]
      }
     ],
     "prompt_number": 16
    },
    {
     "cell_type": "code",
     "collapsed": false,
     "input": [
      "connection.mytables()\n"
     ],
     "language": "python",
     "metadata": {},
     "outputs": [
      {
       "output_type": "stream",
       "stream": "stdout",
       "text": [
        "\n",
        "\u001b[36mList of my tables\n",
        "\u001b[0m\n",
        "                 TABLE_NAME\n",
        "1                     ZBINS\n",
        "2   SVA1_GOLD_PHOTOZ_SPARSE\n",
        "3           FGOTTENMETADATA\n",
        "4                  TEST_API\n",
        "5          SVA1_GOLD_PHOTOZ\n",
        "6                 MINI_Y1A1\n",
        "7         Y1A1_COADD_PHOTOZ\n",
        "8               SPARSE_DICT\n",
        "9              SPEC_MATCHED\n",
        "10     SVA1_GOLD_PHOTOZ_PDF\n",
        "11            TPZ_SVA1_GOLD\n",
        "\n"
       ]
      }
     ],
     "prompt_number": 17
    },
    {
     "cell_type": "markdown",
     "metadata": {},
     "source": [
      "## Load SQL"
     ]
    },
    {
     "cell_type": "code",
     "collapsed": false,
     "input": [
      "query2=connection.loadsql('test.sql')"
     ],
     "language": "python",
     "metadata": {},
     "outputs": [],
     "prompt_number": 18
    },
    {
     "cell_type": "code",
     "collapsed": false,
     "input": [
      "query2"
     ],
     "language": "python",
     "metadata": {},
     "outputs": [
      {
       "metadata": {},
       "output_type": "pyout",
       "prompt_number": 19,
       "text": [
        "' SELECT  T1.COADD_OBJECTS_ID,  T1.RA,  T1.DEC,  T1.MAG_AUTO_G-T1.XCORR_SFD98_G G,  T1.MAGERR_DETMODEL_I,  T2.DESDM_ZP, T2.DESDM_ZPERR  FROM MINI_Y1A1 T1,  Y1A1_COADD_PHOTOZ  T2  WHERE T2.COADD_OBJECTS_ID = T1.COADD_OBJECTS_ID'"
       ]
      }
     ],
     "prompt_number": 19
    },
    {
     "cell_type": "markdown",
     "metadata": {},
     "source": [
      "## ping the DB"
     ]
    },
    {
     "cell_type": "code",
     "collapsed": false,
     "input": [
      "connection.ping()"
     ],
     "language": "python",
     "metadata": {},
     "outputs": [
      {
       "output_type": "stream",
       "stream": "stdout",
       "text": [
        "Still connected to DB\n"
       ]
      }
     ],
     "prompt_number": 20
    },
    {
     "cell_type": "code",
     "collapsed": false,
     "input": [
      "cursor.execute('drop table test_api')"
     ],
     "language": "python",
     "metadata": {},
     "outputs": [],
     "prompt_number": 21
    },
    {
     "cell_type": "code",
     "collapsed": false,
     "input": [
      "connection.mytables()"
     ],
     "language": "python",
     "metadata": {},
     "outputs": [
      {
       "output_type": "stream",
       "stream": "stdout",
       "text": [
        "\n",
        "\u001b[36mList of my tables\n",
        "\u001b[0m\n",
        "                 TABLE_NAME\n",
        "1                     ZBINS\n",
        "2   SVA1_GOLD_PHOTOZ_SPARSE\n",
        "3           FGOTTENMETADATA\n",
        "4          SVA1_GOLD_PHOTOZ\n",
        "5                 MINI_Y1A1\n",
        "6         Y1A1_COADD_PHOTOZ\n",
        "7               SPARSE_DICT\n",
        "8              SPEC_MATCHED\n",
        "9      SVA1_GOLD_PHOTOZ_PDF\n",
        "10            TPZ_SVA1_GOLD\n",
        "\n"
       ]
      }
     ],
     "prompt_number": 22
    },
    {
     "cell_type": "markdown",
     "metadata": {},
     "source": [
      "## Running easyaccess commands"
     ]
    },
    {
     "cell_type": "code",
     "collapsed": false,
     "input": [
      "connection.onecmd('help')"
     ],
     "language": "python",
     "metadata": {},
     "outputs": [
      {
       "output_type": "stream",
       "stream": "stdout",
       "text": [
        "\n",
        "     \\\u203e\u203e\u203e\u203e\u203e\u203e\\      \n",
        "  \u001b[31m//\u001b[0m / .    .\\    \n",
        " \u001b[31m//\u001b[0m /   .    _\\   \n",
        "\u001b[31m//\u001b[0m /  .     / \u001b[31m//\u001b[0m \n",
        "\u001b[31m\\\\\u001b[0m \\     . / \u001b[31m//\u001b[0m  \n",
        "\u001b[31m \\\\\u001b[0m \\_____/ \u001b[31m//\u001b[0m   \n",
        "\u001b[31m  \\\\_______//\u001b[0m    DARK ENERGY SURVEY\n",
        "\u001b[31m   `\u203e\u203e\u203e\u203e\u203e\u203e\u203e\u00b4\u001b[0m     DATA MANAGEMENT\n",
        "\n",
        "\u001b[36m *General Commands*\u001b[0m (type help <command>):\n",
        "===================================================\n",
        "clear  config  edit  exit  help  history  prefetch  shell\n",
        "\n",
        "\u001b[36m\n",
        " *DB Commands*\u001b[0m      (type help <command>):\n",
        "====================================================\n",
        "add_comment              find_user   mytables                show_index \n",
        "describe_table           load_table  refresh_metadata_cache  user_tables\n",
        "find_tables              loadsql     set_password            whoami     \n",
        "find_tables_with_column  myquota     show_db               \n",
        "\n",
        "\u001b[36m *Default Input*\u001b[0m\n",
        "===================================================\n",
        "* To run SQL queries just add ; at the end of query\n",
        "* To write to a file  : select ... from ... where ... ; > filename\n",
        "\u001b[32m* Supported file formats (.csv, .tab., .fits, .h5) \u001b[0m\n",
        "* To check SQL syntax : select ... from ... where ... ; < check\n",
        "\n",
        "* To access an online tutorial type: online_tutorial \n"
       ]
      }
     ],
     "prompt_number": 23
    },
    {
     "cell_type": "code",
     "collapsed": false,
     "input": [
      "connection.onecmd('whoami')"
     ],
     "language": "python",
     "metadata": {},
     "outputs": [
      {
       "output_type": "stream",
       "stream": "stdout",
       "text": [
        "\n",
        "   USERNAME                       EMAIL FIRSTNAME LASTNAME\n",
        "1  mcarras2  mcarras2@ncsa.illinois.edu    Matias     Kind\n",
        "\n"
       ]
      }
     ],
     "prompt_number": 24
    },
    {
     "cell_type": "code",
     "collapsed": false,
     "input": [
      "connection.close()"
     ],
     "language": "python",
     "metadata": {},
     "outputs": [],
     "prompt_number": 25
    },
    {
     "cell_type": "code",
     "collapsed": false,
     "input": [
      "connection.ping()"
     ],
     "language": "python",
     "metadata": {},
     "outputs": [
      {
       "output_type": "stream",
       "stream": "stdout",
       "text": [
        "Connection with DB lost\n"
       ]
      }
     ],
     "prompt_number": 26
    },
    {
     "cell_type": "code",
     "collapsed": false,
     "input": [],
     "language": "python",
     "metadata": {},
     "outputs": [],
     "prompt_number": 26
    }
   ],
   "metadata": {}
  }
 ]
}